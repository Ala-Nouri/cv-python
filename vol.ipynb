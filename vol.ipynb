{
 "cells": [
  {
   "cell_type": "code",
   "execution_count": 6,
   "id": "408423c1",
   "metadata": {},
   "outputs": [],
   "source": [
    "import cv2\n",
    "import cvzone\n",
    "from cvzone.HandTrackingModule import HandDetector\n",
    "import numpy as np\n",
    "from ctypes import cast, POINTER\n",
    "from comtypes import CLSCTX_ALL\n",
    "from pycaw.pycaw  import AudioUtilities, IAudioEndpointVolume\n",
    "\n",
    "\n",
    "devices = AudioUtilities.GetSpeakers()\n",
    "interface = devices.Activate(\n",
    "    IAudioEndpointVolume._iid_, CLSCTX_ALL, None)\n",
    "volume = cast(interface, POINTER(IAudioEndpointVolume))\n",
    "#volume.GetMute()\n",
    "vol=volume.GetMasterVolumeLevel()\n",
    "vRange=volume.GetVolumeRange()\n",
    "minVol=vRange[0]\n",
    "maxVol=vRange[1]\n",
    "per=np.interp(vol,[minVol,maxVol],[0,100])\n",
    "\n",
    "cap=cv2.VideoCapture(1)\n",
    "cap.set(3, 2560)\n",
    "cap.set(4, 1440)\n",
    "detector=HandDetector(detectionCon=1)\n",
    "\n",
    "while True:\n",
    "    success,img=cap.read()\n",
    "    img1= cv2.flip(img,1)\n",
    "    lmList,img=detector.findHands(img)\n",
    "    if len(lmList)==1 and detector.fingersUp(lmList[0])==[1,1,1,0,0] :\n",
    "        hand=lmList[0]\n",
    "        l,cursor= detector.findDistance(hand[\"lmList\"][8], hand[\"lmList\"][4])\n",
    "        vol=np.interp(l,[50,170],[minVol,maxVol])\n",
    "        volBar=np.interp(l,[50,170],[400,150])\n",
    "        per=np.interp(l,[50,170],[0,100])\n",
    "        volume.SetMasterVolumeLevel(vol, None)\n",
    "        cv2.rectangle(img1,(50,150),(85,400),(255,0,0),3)\n",
    "        cv2.rectangle(img1,(50,int(volBar)),(85,400),(255,0,0),cv2.FILLED)\n",
    "        cv2.putText(img1,f'{int(per)} %',(40,450),cv2.FONT_HERSHEY_COMPLEX,1,(255,0,0))\n",
    "    \n",
    "    \n",
    "    \n",
    "    \n",
    "    cv2.imshow(\"Image\",img1)\n",
    "    if cv2.waitKey(27)==27:\n",
    "        cap.release()\n",
    "        cv2.destroyAllWindows()\n",
    "        break"
   ]
  },
  {
   "cell_type": "code",
   "execution_count": null,
   "id": "fdd4a577",
   "metadata": {},
   "outputs": [],
   "source": []
  },
  {
   "cell_type": "code",
   "execution_count": null,
   "id": "9bbc6a70",
   "metadata": {},
   "outputs": [],
   "source": []
  }
 ],
 "metadata": {
  "kernelspec": {
   "display_name": "Python 3",
   "language": "python",
   "name": "python3"
  },
  "language_info": {
   "codemirror_mode": {
    "name": "ipython",
    "version": 3
   },
   "file_extension": ".py",
   "mimetype": "text/x-python",
   "name": "python",
   "nbconvert_exporter": "python",
   "pygments_lexer": "ipython3",
   "version": "3.8.8"
  }
 },
 "nbformat": 4,
 "nbformat_minor": 5
}
