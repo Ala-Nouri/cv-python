{
 "cells": [
  {
   "cell_type": "code",
   "execution_count": 2,
   "id": "8f52826d",
   "metadata": {},
   "outputs": [],
   "source": [
    "import cv2\n",
    "import cvzone\n",
    "from cvzone.HandTrackingModule import HandDetector\n",
    "import numpy as np\n",
    "import autopy\n",
    "\n",
    "wScr,hScr=autopy.screen.size()\n",
    "framR=100\n",
    "sValue=5\n",
    "clocX,clocY=0,0\n",
    "plocX,plocY=0,0\n",
    "\n",
    "\n",
    "\n",
    "cap=cv2.VideoCapture(1)\n",
    "cap.set(3, 640)\n",
    "cap.set(4, 480)\n",
    "detector=HandDetector(detectionCon=1)\n",
    "\n",
    "while True:\n",
    "    success,img=cap.read()\n",
    "    img1= cv2.flip(img,1)\n",
    "    hand,img=detector.findHands(img1)\n",
    "    cvzone.cornerRect(img1,(framR,framR,640-2*framR,480-2*framR),20,rt=0)\n",
    "    if hand:\n",
    "        lmList=hand[-1][\"lmList\"]\n",
    "        if framR<lmList[8][0]<640-framR and framR<lmList[8][1]<480-framR:\n",
    "            xM=np.interp(lmList[8][0],(framR,640-framR),(0,wScr))\n",
    "            yM=np.interp(lmList[8][1],(framR,480-framR),(0,hScr))\n",
    "            clocX=plocX +(xM-plocX)/sValue\n",
    "            clocY=plocY +(yM-plocY)/sValue\n",
    "            plocX,plocY=clocX,clocY\n",
    "            autopy.mouse.move(clocX,clocY)\n",
    "            l,_=detector.findDistance(lmList[4],lmList[6])\n",
    "            if l<40:\n",
    "                autopy.mouse.click()\n",
    "    \n",
    "    \n",
    "    \n",
    "    cv2.imshow(\"Image\",img1)\n",
    "    if cv2.waitKey(27)==27:\n",
    "        cap.release()\n",
    "        cv2.destroyAllWindows()\n",
    "        break"
   ]
  },
  {
   "cell_type": "code",
   "execution_count": 12,
   "id": "eadef481",
   "metadata": {},
   "outputs": [
    {
     "name": "stdout",
     "output_type": "stream",
     "text": [
      "Help on module autopy.mouse in autopy:\n",
      "\n",
      "NAME\n",
      "    autopy.mouse\n",
      "\n",
      "DESCRIPTION\n",
      "    This module contains functions for getting the current state of and\n",
      "    controlling the mouse cursor.\n",
      "    \n",
      "    Unless otherwise stated, coordinates are those of a screen coordinate\n",
      "    system, where the origin is at the top left.\n",
      "\n",
      "FUNCTIONS\n",
      "    click(...)\n",
      "        Convenience wrapper around `toggle()` that holds down and then releases the\n",
      "        given mouse button. By default, the left button is pressed.\n",
      "    \n",
      "    location(...)\n",
      "        Returns a tuple `(x, y)` of the current mouse position.\n",
      "    \n",
      "    move = move_py(...)\n",
      "        Moves the mouse to the given `(x, y)` coordinate.\n",
      "        \n",
      "        Exceptions:\n",
      "            - `ValueError` is thrown if the point is out of index.\n",
      "    \n",
      "    smooth_move(...)\n",
      "        Smoothly moves the mouse to the given `(x, y)` coordinate in a straight\n",
      "        line.\n",
      "        \n",
      "        Exceptions:\n",
      "            - `ValueError` is thrown if the point is out of index.\n",
      "    \n",
      "    toggle(...)\n",
      "        Holds down or releases the given mouse button in the current position.\n",
      "        Button can be `LEFT`, `RIGHT`, `MIDDLE`, or `None` to default to the left\n",
      "        button.\n",
      "\n",
      "DATA\n",
      "    Button = <_Button object>\n",
      "\n",
      "FILE\n",
      "    c:\\users\\asus\\anaconda3\\lib\\site-packages\\autopy\\mouse.cp38-win_amd64.pyd\n",
      "\n",
      "\n"
     ]
    }
   ],
   "source": [
    "help(autopy.mouse)"
   ]
  },
  {
   "cell_type": "code",
   "execution_count": null,
   "id": "408022c1",
   "metadata": {},
   "outputs": [],
   "source": []
  }
 ],
 "metadata": {
  "kernelspec": {
   "display_name": "Python 3",
   "language": "python",
   "name": "python3"
  },
  "language_info": {
   "codemirror_mode": {
    "name": "ipython",
    "version": 3
   },
   "file_extension": ".py",
   "mimetype": "text/x-python",
   "name": "python",
   "nbconvert_exporter": "python",
   "pygments_lexer": "ipython3",
   "version": "3.8.8"
  }
 },
 "nbformat": 4,
 "nbformat_minor": 5
}
